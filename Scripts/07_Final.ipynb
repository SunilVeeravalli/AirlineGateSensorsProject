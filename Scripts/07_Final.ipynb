{
 "cells": [
  {
   "cell_type": "code",
   "execution_count": 1,
   "metadata": {
    "collapsed": true
   },
   "outputs": [
    {
     "name": "stdout",
     "output_type": "stream",
     "text": [
      "Requirement already satisfied: pandas in c:\\users\\ucbcskv\\appdata\\local\\programs\\python\\python37\\lib\\site-packages (0.24.2)\n",
      "Requirement already satisfied: numpy in c:\\users\\ucbcskv\\appdata\\local\\programs\\python\\python37\\lib\\site-packages (1.16.4)\n",
      "Requirement already satisfied: python-dateutil>=2.5.0 in c:\\users\\ucbcskv\\appdata\\local\\programs\\python\\python37\\lib\\site-packages (from pandas) (2.8.0)\n",
      "Requirement already satisfied: pytz>=2011k in c:\\users\\ucbcskv\\appdata\\local\\programs\\python\\python37\\lib\\site-packages (from pandas) (2019.1)\n",
      "Requirement already satisfied: six>=1.5 in c:\\users\\ucbcskv\\appdata\\local\\programs\\python\\python37\\lib\\site-packages (from python-dateutil>=2.5.0->pandas) (1.12.0)\n"
     ]
    }
   ],
   "source": [
    "# Install the packages below\n",
    "\n",
    "!pip install pandas numpy\n"
   ]
  },
  {
   "cell_type": "code",
   "execution_count": 2,
   "metadata": {},
   "outputs": [],
   "source": [
    "# Import the above installed packages\n",
    "\n",
    "import pandas as pd\n",
    "import numpy as np\n"
   ]
  },
  {
   "cell_type": "code",
   "execution_count": 3,
   "metadata": {},
   "outputs": [],
   "source": [
    "# Creating a single table for each metric from all scenarios[1-5]\n",
    "\n",
    "folder_names = ['Scenario1', 'Scenario2', 'Scenario3', 'Scenario4', 'Scenario5']\n",
    "precision = pd.DataFrame(columns = ['Case','Model', 'Gate 1', 'Gate 2', 'Gate 3', 'Gate 4', 'Average'])\n",
    "recall = pd.DataFrame(columns = ['Case','Model', 'Gate 1', 'Gate 2', 'Gate 3', 'Gate 4', 'Average'])\n",
    "fscore = pd.DataFrame(columns = ['Case','Model', 'Gate 1', 'Gate 2', 'Gate 3', 'Gate 4', 'Average'])\n",
    "for i in folder_names:\n",
    "    precision_path = '../Clean_Data/' + i + '/precision.pk'\n",
    "    precision_data = pd.read_pickle(path = precision_path)\n",
    "    recall_path = '../Clean_Data/' + i + '/recall.pk'\n",
    "    recall_data = pd.read_pickle(path = recall_path)\n",
    "    fscore_path = '../Clean_Data/' + i + '/fscore.pk'\n",
    "    fscore_data = pd.read_pickle(path = fscore_path)\n",
    "    precision = pd.concat([precision, precision_data], ignore_index = True)\n",
    "    recall = pd.concat([recall, recall_data], ignore_index = True)\n",
    "    fscore = pd.concat([fscore, fscore_data], ignore_index = True)\n",
    "\n",
    "    \n",
    "# Saving all the data frames to 'Clean_Data' folder\n",
    "precision.to_pickle(path = '../Clean_Data/Final/precision_final.pk')\n",
    "recall.to_pickle(path = '../Clean_Data/Final/recall_final.pk')\n",
    "fscore.to_pickle(path = '../Clean_Data/Final/fscore_final.pk')\n"
   ]
  },
  {
   "cell_type": "code",
   "execution_count": 4,
   "metadata": {},
   "outputs": [
    {
     "data": {
      "text/html": [
       "<div>\n",
       "<style scoped>\n",
       "    .dataframe tbody tr th:only-of-type {\n",
       "        vertical-align: middle;\n",
       "    }\n",
       "\n",
       "    .dataframe tbody tr th {\n",
       "        vertical-align: top;\n",
       "    }\n",
       "\n",
       "    .dataframe thead th {\n",
       "        text-align: right;\n",
       "    }\n",
       "</style>\n",
       "<table border=\"1\" class=\"dataframe\">\n",
       "  <thead>\n",
       "    <tr style=\"text-align: right;\">\n",
       "      <th></th>\n",
       "      <th>Case</th>\n",
       "      <th>Model</th>\n",
       "      <th>Gate 1</th>\n",
       "      <th>Gate 2</th>\n",
       "      <th>Gate 3</th>\n",
       "      <th>Gate 4</th>\n",
       "      <th>Average</th>\n",
       "    </tr>\n",
       "  </thead>\n",
       "  <tbody>\n",
       "    <tr>\n",
       "      <th>10</th>\n",
       "      <td>Scenario 2</td>\n",
       "      <td>Logistic Regression</td>\n",
       "      <td>1</td>\n",
       "      <td>0.967</td>\n",
       "      <td>0.979</td>\n",
       "      <td>0.971</td>\n",
       "      <td>0.979</td>\n",
       "    </tr>\n",
       "    <tr>\n",
       "      <th>17</th>\n",
       "      <td>Scenario 2</td>\n",
       "      <td>Multilayer Perceptron</td>\n",
       "      <td>1</td>\n",
       "      <td>0.967</td>\n",
       "      <td>0.968</td>\n",
       "      <td>0.971</td>\n",
       "      <td>0.976</td>\n",
       "    </tr>\n",
       "    <tr>\n",
       "      <th>15</th>\n",
       "      <td>Scenario 2</td>\n",
       "      <td>SGD</td>\n",
       "      <td>1</td>\n",
       "      <td>0.967</td>\n",
       "      <td>0.968</td>\n",
       "      <td>0.971</td>\n",
       "      <td>0.976</td>\n",
       "    </tr>\n",
       "    <tr>\n",
       "      <th>41</th>\n",
       "      <td>Scenario 5</td>\n",
       "      <td>SVC</td>\n",
       "      <td>0.98</td>\n",
       "      <td>0.97</td>\n",
       "      <td>0.96</td>\n",
       "      <td>0.99</td>\n",
       "      <td>0.975</td>\n",
       "    </tr>\n",
       "    <tr>\n",
       "      <th>40</th>\n",
       "      <td>Scenario 5</td>\n",
       "      <td>Logistic Regression</td>\n",
       "      <td>0.98</td>\n",
       "      <td>0.97</td>\n",
       "      <td>0.96</td>\n",
       "      <td>0.99</td>\n",
       "      <td>0.975</td>\n",
       "    </tr>\n",
       "  </tbody>\n",
       "</table>\n",
       "</div>"
      ],
      "text/plain": [
       "          Case                  Model Gate 1 Gate 2 Gate 3 Gate 4 Average\n",
       "10  Scenario 2    Logistic Regression      1  0.967  0.979  0.971   0.979\n",
       "17  Scenario 2  Multilayer Perceptron      1  0.967  0.968  0.971   0.976\n",
       "15  Scenario 2                    SGD      1  0.967  0.968  0.971   0.976\n",
       "41  Scenario 5                    SVC   0.98   0.97   0.96   0.99   0.975\n",
       "40  Scenario 5    Logistic Regression   0.98   0.97   0.96   0.99   0.975"
      ]
     },
     "execution_count": 4,
     "metadata": {},
     "output_type": "execute_result"
    }
   ],
   "source": [
    "# Top 5 models with best precision score from all the scenarios[1-5]:\n",
    "\n",
    "precision.sort_values(by = 'Average', axis = 0, ascending = False).head(5)\n"
   ]
  },
  {
   "cell_type": "code",
   "execution_count": 5,
   "metadata": {},
   "outputs": [
    {
     "data": {
      "text/html": [
       "<div>\n",
       "<style scoped>\n",
       "    .dataframe tbody tr th:only-of-type {\n",
       "        vertical-align: middle;\n",
       "    }\n",
       "\n",
       "    .dataframe tbody tr th {\n",
       "        vertical-align: top;\n",
       "    }\n",
       "\n",
       "    .dataframe thead th {\n",
       "        text-align: right;\n",
       "    }\n",
       "</style>\n",
       "<table border=\"1\" class=\"dataframe\">\n",
       "  <thead>\n",
       "    <tr style=\"text-align: right;\">\n",
       "      <th></th>\n",
       "      <th>Case</th>\n",
       "      <th>Model</th>\n",
       "      <th>Gate 1</th>\n",
       "      <th>Gate 2</th>\n",
       "      <th>Gate 3</th>\n",
       "      <th>Gate 4</th>\n",
       "      <th>Average</th>\n",
       "    </tr>\n",
       "  </thead>\n",
       "  <tbody>\n",
       "    <tr>\n",
       "      <th>10</th>\n",
       "      <td>Scenario 2</td>\n",
       "      <td>Logistic Regression</td>\n",
       "      <td>1</td>\n",
       "      <td>0.978</td>\n",
       "      <td>0.939</td>\n",
       "      <td>1</td>\n",
       "      <td>0.979</td>\n",
       "    </tr>\n",
       "    <tr>\n",
       "      <th>17</th>\n",
       "      <td>Scenario 2</td>\n",
       "      <td>Multilayer Perceptron</td>\n",
       "      <td>1</td>\n",
       "      <td>0.967</td>\n",
       "      <td>0.939</td>\n",
       "      <td>1</td>\n",
       "      <td>0.976</td>\n",
       "    </tr>\n",
       "    <tr>\n",
       "      <th>15</th>\n",
       "      <td>Scenario 2</td>\n",
       "      <td>SGD</td>\n",
       "      <td>1</td>\n",
       "      <td>0.967</td>\n",
       "      <td>0.939</td>\n",
       "      <td>1</td>\n",
       "      <td>0.976</td>\n",
       "    </tr>\n",
       "    <tr>\n",
       "      <th>41</th>\n",
       "      <td>Scenario 5</td>\n",
       "      <td>SVC</td>\n",
       "      <td>1</td>\n",
       "      <td>0.96</td>\n",
       "      <td>0.95</td>\n",
       "      <td>0.99</td>\n",
       "      <td>0.975</td>\n",
       "    </tr>\n",
       "    <tr>\n",
       "      <th>40</th>\n",
       "      <td>Scenario 5</td>\n",
       "      <td>Logistic Regression</td>\n",
       "      <td>1</td>\n",
       "      <td>0.96</td>\n",
       "      <td>0.95</td>\n",
       "      <td>0.99</td>\n",
       "      <td>0.975</td>\n",
       "    </tr>\n",
       "  </tbody>\n",
       "</table>\n",
       "</div>"
      ],
      "text/plain": [
       "          Case                  Model Gate 1 Gate 2 Gate 3 Gate 4 Average\n",
       "10  Scenario 2    Logistic Regression      1  0.978  0.939      1   0.979\n",
       "17  Scenario 2  Multilayer Perceptron      1  0.967  0.939      1   0.976\n",
       "15  Scenario 2                    SGD      1  0.967  0.939      1   0.976\n",
       "41  Scenario 5                    SVC      1   0.96   0.95   0.99   0.975\n",
       "40  Scenario 5    Logistic Regression      1   0.96   0.95   0.99   0.975"
      ]
     },
     "execution_count": 5,
     "metadata": {},
     "output_type": "execute_result"
    }
   ],
   "source": [
    "# Top 5 models with best recall score from all the scenarios[1-5]:\n",
    "\n",
    "recall.sort_values(by = 'Average', axis = 0, ascending = False).head(5)\n"
   ]
  },
  {
   "cell_type": "code",
   "execution_count": 6,
   "metadata": {},
   "outputs": [
    {
     "data": {
      "text/html": [
       "<div>\n",
       "<style scoped>\n",
       "    .dataframe tbody tr th:only-of-type {\n",
       "        vertical-align: middle;\n",
       "    }\n",
       "\n",
       "    .dataframe tbody tr th {\n",
       "        vertical-align: top;\n",
       "    }\n",
       "\n",
       "    .dataframe thead th {\n",
       "        text-align: right;\n",
       "    }\n",
       "</style>\n",
       "<table border=\"1\" class=\"dataframe\">\n",
       "  <thead>\n",
       "    <tr style=\"text-align: right;\">\n",
       "      <th></th>\n",
       "      <th>Case</th>\n",
       "      <th>Model</th>\n",
       "      <th>Gate 1</th>\n",
       "      <th>Gate 2</th>\n",
       "      <th>Gate 3</th>\n",
       "      <th>Gate 4</th>\n",
       "      <th>Average</th>\n",
       "    </tr>\n",
       "  </thead>\n",
       "  <tbody>\n",
       "    <tr>\n",
       "      <th>10</th>\n",
       "      <td>Scenario 2</td>\n",
       "      <td>Logistic Regression</td>\n",
       "      <td>1</td>\n",
       "      <td>0.972</td>\n",
       "      <td>0.958</td>\n",
       "      <td>0.985</td>\n",
       "      <td>0.979</td>\n",
       "    </tr>\n",
       "    <tr>\n",
       "      <th>17</th>\n",
       "      <td>Scenario 2</td>\n",
       "      <td>Multilayer Perceptron</td>\n",
       "      <td>1</td>\n",
       "      <td>0.967</td>\n",
       "      <td>0.953</td>\n",
       "      <td>0.985</td>\n",
       "      <td>0.976</td>\n",
       "    </tr>\n",
       "    <tr>\n",
       "      <th>15</th>\n",
       "      <td>Scenario 2</td>\n",
       "      <td>SGD</td>\n",
       "      <td>1</td>\n",
       "      <td>0.967</td>\n",
       "      <td>0.953</td>\n",
       "      <td>0.985</td>\n",
       "      <td>0.976</td>\n",
       "    </tr>\n",
       "    <tr>\n",
       "      <th>41</th>\n",
       "      <td>Scenario 5</td>\n",
       "      <td>SVC</td>\n",
       "      <td>0.99</td>\n",
       "      <td>0.965</td>\n",
       "      <td>0.955</td>\n",
       "      <td>0.99</td>\n",
       "      <td>0.975</td>\n",
       "    </tr>\n",
       "    <tr>\n",
       "      <th>40</th>\n",
       "      <td>Scenario 5</td>\n",
       "      <td>Logistic Regression</td>\n",
       "      <td>0.99</td>\n",
       "      <td>0.965</td>\n",
       "      <td>0.955</td>\n",
       "      <td>0.99</td>\n",
       "      <td>0.975</td>\n",
       "    </tr>\n",
       "  </tbody>\n",
       "</table>\n",
       "</div>"
      ],
      "text/plain": [
       "          Case                  Model Gate 1 Gate 2 Gate 3 Gate 4 Average\n",
       "10  Scenario 2    Logistic Regression      1  0.972  0.958  0.985   0.979\n",
       "17  Scenario 2  Multilayer Perceptron      1  0.967  0.953  0.985   0.976\n",
       "15  Scenario 2                    SGD      1  0.967  0.953  0.985   0.976\n",
       "41  Scenario 5                    SVC   0.99  0.965  0.955   0.99   0.975\n",
       "40  Scenario 5    Logistic Regression   0.99  0.965  0.955   0.99   0.975"
      ]
     },
     "execution_count": 6,
     "metadata": {},
     "output_type": "execute_result"
    }
   ],
   "source": [
    "# Top 5 models with best fscore from all the scenarios[1-5]:\n",
    "\n",
    "fscore.sort_values(by = 'Average', axis = 0, ascending = False).head(5)\n"
   ]
  },
  {
   "cell_type": "markdown",
   "metadata": {},
   "source": [
    " "
   ]
  },
  {
   "cell_type": "markdown",
   "metadata": {},
   "source": [
    "## Conclusion\n",
    "### For all metrics (precision, recall, fscore):\n",
    " `Logistic Regression` from `Scenario2` stands out to be the best model followed by `Multilayer Perceptron` with a small difference."
   ]
  },
  {
   "cell_type": "markdown",
   "metadata": {},
   "source": [
    " "
   ]
  },
  {
   "cell_type": "markdown",
   "metadata": {},
   "source": [
    " "
   ]
  }
 ],
 "metadata": {
  "kernelspec": {
   "display_name": "Python 3",
   "language": "python",
   "name": "python3"
  },
  "language_info": {
   "codemirror_mode": {
    "name": "ipython",
    "version": 3
   },
   "file_extension": ".py",
   "mimetype": "text/x-python",
   "name": "python",
   "nbconvert_exporter": "python",
   "pygments_lexer": "ipython3",
   "version": "3.7.3"
  }
 },
 "nbformat": 4,
 "nbformat_minor": 2
}
